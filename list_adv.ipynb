{
 "cells": [
  {
   "cell_type": "markdown",
   "metadata": {},
   "source": [
    "##### comprehension\n",
    "##### lambda, map, reduce"
   ]
  },
  {
   "cell_type": "code",
   "execution_count": 1,
   "metadata": {},
   "outputs": [
    {
     "name": "stdout",
     "output_type": "stream",
     "text": [
      "[11, 12, 13, 14, 15, 16, 17, 18, 19, 20]\n"
     ]
    }
   ],
   "source": [
    "# normal code\n",
    "x = [1,2,3,4,5,6,7,8,9,10]\n",
    "x10 = []\n",
    "for i in x:\n",
    "    out = i + 10\n",
    "    x10.append(out)\n",
    "print(x10)"
   ]
  },
  {
   "cell_type": "markdown",
   "metadata": {},
   "source": [
    "comprehension syntax\n",
    "- simple\n",
    "```\n",
    "newlist = [operation loop]\n",
    "```\n",
    "- conditional\n",
    "```\n",
    "newlist = [operation loop condition]\n",
    "```"
   ]
  },
  {
   "cell_type": "code",
   "execution_count": 3,
   "metadata": {},
   "outputs": [
    {
     "name": "stdout",
     "output_type": "stream",
     "text": [
      "[4, 5, 6, 7, 8, 9, 10, 11, 12, 13]\n"
     ]
    }
   ],
   "source": [
    "# pythonic\n",
    "xinv10 = [i+3 for i in x]\n",
    "print(xinv10)"
   ]
  },
  {
   "cell_type": "code",
   "execution_count": 9,
   "metadata": {},
   "outputs": [
    {
     "name": "stdout",
     "output_type": "stream",
     "text": [
      "[1, 4, 9, 16, 25, 36, 49, 64, 81, 100]\n"
     ]
    }
   ],
   "source": [
    "xsqr = [i**2 for i in x]\n",
    "print(xsqr) "
   ]
  },
  {
   "cell_type": "code",
   "execution_count": 10,
   "metadata": {},
   "outputs": [
    {
     "name": "stdout",
     "output_type": "stream",
     "text": [
      "[4, 16, 36]\n"
     ]
    }
   ],
   "source": [
    "y = [1,2,3,4,5,6]\n",
    "ysqr_even = []\n",
    "for i in y:\n",
    "    if i % 2 == 0:\n",
    "        sqr = i ** 2\n",
    "        ysqr_even.append(sqr)\n",
    "print(ysqr_even)"
   ]
  },
  {
   "cell_type": "code",
   "execution_count": 11,
   "metadata": {},
   "outputs": [
    {
     "data": {
      "text/plain": [
       "[1, 27, 125]"
      ]
     },
     "execution_count": 11,
     "metadata": {},
     "output_type": "execute_result"
    }
   ],
   "source": [
    "ycube_odd = [i**3 for i in y if i%2 != 0]\n",
    "ycube_odd"
   ]
  },
  {
   "cell_type": "code",
   "execution_count": 5,
   "metadata": {},
   "outputs": [
    {
     "name": "stdout",
     "output_type": "stream",
     "text": [
      "['Stormblessed', 'Kholin', 'Dawar']\n"
     ]
    }
   ],
   "source": [
    "names = ['Kaladin Stormblessed','Adolin Kholin','Shallan Dawar']\n",
    "surnames = []\n",
    "for name in names:\n",
    "    sn = name.split()[-1] # select last word \n",
    "    surnames.append(sn)\n",
    "print(surnames)"
   ]
  },
  {
   "cell_type": "code",
   "execution_count": 6,
   "metadata": {},
   "outputs": [
    {
     "name": "stdout",
     "output_type": "stream",
     "text": [
      "['Kaladin', 'Adolin', 'Shallan']\n"
     ]
    }
   ],
   "source": [
    "firstname = [name.split()[0] for name in names]\n",
    "print(firstname)"
   ]
  },
  {
   "cell_type": "code",
   "execution_count": 7,
   "metadata": {},
   "outputs": [],
   "source": [
    "emps = ['Suraj','Ali','Mohan','Vijay','Sujay','Murtuja','Elina','Alex','Manju','Ajay'] \n",
    "# emps that contain `n`` in their name"
   ]
  },
  {
   "cell_type": "code",
   "execution_count": 31,
   "metadata": {},
   "outputs": [
    {
     "name": "stdout",
     "output_type": "stream",
     "text": [
      "['Mohan', 'Elina', 'Manju']\n"
     ]
    }
   ],
   "source": [
    "emps_n = []\n",
    "for name in emps:\n",
    "    if 'n' in name:\n",
    "        emps_n.append(name)\n",
    "print(emps_n)"
   ]
  },
  {
   "cell_type": "code",
   "execution_count": 9,
   "metadata": {},
   "outputs": [
    {
     "name": "stdout",
     "output_type": "stream",
     "text": [
      "['Mohan', 'Elina', 'Manju']\n"
     ]
    }
   ],
   "source": [
    "emps_u = [name for name in emps if 'n' in name]\n",
    "print(emps_u)"
   ]
  },
  {
   "cell_type": "code",
   "execution_count": 36,
   "metadata": {},
   "outputs": [
    {
     "name": "stdout",
     "output_type": "stream",
     "text": [
      "[3, 5, 8, 5, 7, 11]\n"
     ]
    }
   ],
   "source": [
    "x = [1,2,3,4,5,6]\n",
    "y = [2,3,5,1,2,5]\n",
    "# add x and y elements and put in z\n",
    "z = []\n",
    "for i,j in zip(x,y):\n",
    "    z.append(i+j)\n",
    "print(z)"
   ]
  },
  {
   "cell_type": "code",
   "execution_count": 38,
   "metadata": {},
   "outputs": [
    {
     "name": "stdout",
     "output_type": "stream",
     "text": [
      "[2, 6, 15, 4, 10, 30]\n"
     ]
    }
   ],
   "source": [
    "a = [i*j for i,j in zip(x,y)]\n",
    "print(a)"
   ]
  },
  {
   "cell_type": "code",
   "execution_count": 14,
   "metadata": {},
   "outputs": [
    {
     "name": "stdout",
     "output_type": "stream",
     "text": [
      "Rohan has iq of 70 in the age of 18\n",
      "Mohan has iq of 75 in the age of 19\n",
      "Sohan has iq of 56 in the age of 32\n"
     ]
    }
   ],
   "source": [
    "people = ['Rohan','Mohan','Sohan']\n",
    "iq = [70,75,56]\n",
    "age = [18,19,32]\n",
    "for p,i,a in zip(people,iq,age):\n",
    "    print(f'{p} has iq of {i} in the age of {a}')"
   ]
  },
  {
   "cell_type": "code",
   "execution_count": 16,
   "metadata": {},
   "outputs": [
    {
     "data": {
      "text/plain": [
       "{1, 2, 3}"
      ]
     },
     "execution_count": 16,
     "metadata": {},
     "output_type": "execute_result"
    }
   ],
   "source": [
    "set([1,2,2,2,2,2,3,3,3,3,3,1,1,1,1,2,2,2,2,2,1,1,1,])"
   ]
  },
  {
   "cell_type": "code",
   "execution_count": null,
   "metadata": {},
   "outputs": [],
   "source": []
  }
 ],
 "metadata": {
  "interpreter": {
   "hash": "26d6d95e799f68a0680bea77b17a4e3218da601be7d02863e2950dbe63a5be85"
  },
  "kernelspec": {
   "display_name": "Python 3.9.5 ('base')",
   "language": "python",
   "name": "python3"
  },
  "language_info": {
   "codemirror_mode": {
    "name": "ipython",
    "version": 3
   },
   "file_extension": ".py",
   "mimetype": "text/x-python",
   "name": "python",
   "nbconvert_exporter": "python",
   "pygments_lexer": "ipython3",
   "version": "3.9.5"
  },
  "orig_nbformat": 4
 },
 "nbformat": 4,
 "nbformat_minor": 2
}

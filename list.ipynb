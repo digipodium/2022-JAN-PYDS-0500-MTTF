{
 "cells": [
  {
   "cell_type": "markdown",
   "metadata": {},
   "source": [
    "# List \n",
    "1. List can hold multiple values\n",
    "2. List is mutable (add, remove item)\n",
    "3. List is indexed (indexing and slicing)\n",
    "4. List can have duplicate item\n",
    "5. List is represented by `[ ]` with comma seperated values\n",
    "6. List can have mixed values inside it\n",
    "7. List can be nested inside list"
   ]
  },
  {
   "cell_type": "markdown",
   "metadata": {},
   "source": [
    "### What u will learn\n",
    "1. ##### Creating\n",
    "2. ##### indexing and slicing\n",
    "3. ##### function (11)\n",
    "4. ##### comprehension\n",
    "5. ##### lambda, map, reduce"
   ]
  },
  {
   "cell_type": "code",
   "execution_count": null,
   "metadata": {},
   "outputs": [],
   "source": [
    "# list of string\n",
    "shards = ['honour','cultivation','odium','preservation','ruin']\n",
    "\n",
    "# list of numbers\n",
    "primes = [2,3,5,7,11,13,17]\n",
    "\n",
    "# mixed content\n",
    "info = ['Raju', 'Singh', 90, 89, 89, 90, \"A\", True, 89.5, \"Perfect\" ]"
   ]
  },
  {
   "cell_type": "code",
   "execution_count": null,
   "metadata": {},
   "outputs": [],
   "source": [
    "# nested list\n",
    "x2  = [[1, 2, 3], [1, 2, 3, 4], [2, 3]]\n",
    "\n",
    "filter = [True,False,True,True,False]"
   ]
  },
  {
   "cell_type": "code",
   "execution_count": null,
   "metadata": {},
   "outputs": [],
   "source": [
    "games = [] # empty list"
   ]
  },
  {
   "cell_type": "code",
   "execution_count": null,
   "metadata": {},
   "outputs": [],
   "source": [
    "# functions that generate list\n",
    "fact = \"ice cubes sits in its own blood\"\n",
    "words = fact.split()"
   ]
  },
  {
   "cell_type": "code",
   "execution_count": null,
   "metadata": {},
   "outputs": [],
   "source": [
    "# quick hack for generating list of duplicating values\n",
    "ones = [1,2,3] * 5\n",
    "ones "
   ]
  },
  {
   "cell_type": "code",
   "execution_count": null,
   "metadata": {},
   "outputs": [],
   "source": [
    "# list from exisiting variables\n",
    "a = 10\n",
    "b = 20\n",
    "c = 'cup'\n",
    "d = \"dog\"\n",
    "items = [a, c, b, d]\n",
    "items"
   ]
  },
  {
   "cell_type": "code",
   "execution_count": null,
   "metadata": {},
   "outputs": [],
   "source": [
    "games=[]"
   ]
  },
  {
   "cell_type": "code",
   "execution_count": null,
   "metadata": {},
   "outputs": [],
   "source": [
    "games.append(\"God of War\")\n",
    "games"
   ]
  },
  {
   "cell_type": "code",
   "execution_count": null,
   "metadata": {},
   "outputs": [],
   "source": [
    "games.append(\"Assasins Creed\")\n",
    "games.append(\"Gears 5\")\n",
    "games.append(\"Valorant\")\n",
    "games.append(\"GTA V\")"
   ]
  },
  {
   "cell_type": "code",
   "execution_count": null,
   "metadata": {},
   "outputs": [],
   "source": [
    "print(games)"
   ]
  },
  {
   "cell_type": "code",
   "execution_count": null,
   "metadata": {},
   "outputs": [],
   "source": [
    "fav_foods = []\n",
    "for i in range(3):\n",
    "    food = input(\"Enter ur fav food=>\")\n",
    "    fav_foods.append(food)\n",
    "print(fav_foods)"
   ]
  },
  {
   "cell_type": "markdown",
   "metadata": {},
   "source": [
    "#### indexing slicing and value modification"
   ]
  },
  {
   "cell_type": "code",
   "execution_count": null,
   "metadata": {},
   "outputs": [],
   "source": [
    "shards"
   ]
  },
  {
   "cell_type": "code",
   "execution_count": null,
   "metadata": {},
   "outputs": [],
   "source": [
    "shards[0] # first element"
   ]
  },
  {
   "cell_type": "code",
   "execution_count": null,
   "metadata": {},
   "outputs": [],
   "source": [
    "shards[-1]"
   ]
  },
  {
   "cell_type": "code",
   "execution_count": null,
   "metadata": {},
   "outputs": [],
   "source": [
    "shards[2]"
   ]
  },
  {
   "cell_type": "code",
   "execution_count": null,
   "metadata": {},
   "outputs": [],
   "source": [
    "shards[3] = \"harmony\" # mutable "
   ]
  },
  {
   "cell_type": "code",
   "execution_count": null,
   "metadata": {},
   "outputs": [],
   "source": [
    "shards"
   ]
  },
  {
   "cell_type": "code",
   "execution_count": null,
   "metadata": {},
   "outputs": [],
   "source": [
    "shards.append(\"autonomy\")\n",
    "shards.append('dominion')\n",
    "shards.append('devotion')\n",
    "shards.append('valor')\n",
    "shards.append('mercy')\n",
    "shards.append('ambition')"
   ]
  },
  {
   "cell_type": "code",
   "execution_count": null,
   "metadata": {},
   "outputs": [],
   "source": [
    "len(shards)"
   ]
  },
  {
   "cell_type": "code",
   "execution_count": null,
   "metadata": {},
   "outputs": [],
   "source": [
    "print(shards)"
   ]
  },
  {
   "cell_type": "code",
   "execution_count": null,
   "metadata": {},
   "outputs": [],
   "source": [
    "shards[:5] # first 5"
   ]
  },
  {
   "cell_type": "code",
   "execution_count": null,
   "metadata": {},
   "outputs": [],
   "source": [
    "shards[-3:] # last 3"
   ]
  },
  {
   "cell_type": "code",
   "execution_count": null,
   "metadata": {},
   "outputs": [],
   "source": [
    "shards[3:8] # from 3rd index to 7th index"
   ]
  },
  {
   "cell_type": "code",
   "execution_count": null,
   "metadata": {},
   "outputs": [],
   "source": [
    "shards[::2] # starting to end > every 2 item or all the even indexes"
   ]
  },
  {
   "cell_type": "code",
   "execution_count": null,
   "metadata": {},
   "outputs": [],
   "source": [
    "shards[1::2] # all the odd index"
   ]
  },
  {
   "cell_type": "code",
   "execution_count": null,
   "metadata": {},
   "outputs": [],
   "source": [
    "print(shards[::-1]) # reverse"
   ]
  },
  {
   "cell_type": "markdown",
   "metadata": {},
   "source": [
    "17 feb 2022"
   ]
  },
  {
   "cell_type": "markdown",
   "metadata": {},
   "source": [
    "## function \n",
    "##### list have 11 function\n",
    "- adding items\n",
    "    - append()\n",
    "    - insert()\n",
    "    - extend()\n",
    "- deleting items\n",
    "    - remove()\n",
    "    - pop()\n",
    "    - clear()\n",
    "- utility func\n",
    "    - reverse()\n",
    "    - sort()\n",
    "    - count()\n",
    "    - index()\n",
    "    - copy()"
   ]
  },
  {
   "cell_type": "code",
   "execution_count": null,
   "metadata": {},
   "outputs": [],
   "source": [
    "fruits = [] # empty list\n",
    "fruits.append(\"Apple\")\n",
    "fruits.append(\"cherry\")\n",
    "fruits.append(\"Fig\")\n",
    "fruits.append(\"Guava\")\n",
    "fruits"
   ]
  },
  {
   "cell_type": "code",
   "execution_count": null,
   "metadata": {},
   "outputs": [],
   "source": [
    "fruits.insert(1,\"Banana\")\n",
    "fruits"
   ]
  },
  {
   "cell_type": "code",
   "execution_count": null,
   "metadata": {},
   "outputs": [],
   "source": [
    "fruits.insert(3, \"Dragonfruit\")\n",
    "fruits"
   ]
  },
  {
   "cell_type": "code",
   "execution_count": null,
   "metadata": {},
   "outputs": [],
   "source": [
    "fruits.insert(1,\"Avocado\")\n",
    "fruits"
   ]
  },
  {
   "cell_type": "code",
   "execution_count": null,
   "metadata": {},
   "outputs": [],
   "source": [
    "dry_fruits = ['Almonds','Cashew','Walnut','Raisins']"
   ]
  },
  {
   "cell_type": "code",
   "execution_count": null,
   "metadata": {},
   "outputs": [],
   "source": [
    "fruits.extend(dry_fruits)\n",
    "fruits"
   ]
  },
  {
   "cell_type": "code",
   "execution_count": null,
   "metadata": {},
   "outputs": [],
   "source": [
    "'Fig' in fruits"
   ]
  },
  {
   "cell_type": "code",
   "execution_count": null,
   "metadata": {},
   "outputs": [],
   "source": [
    "'fig' in fruits"
   ]
  },
  {
   "cell_type": "code",
   "execution_count": null,
   "metadata": {},
   "outputs": [],
   "source": [
    "fruits.remove('Cashew') if 'Cashew' in fruits else \"not found\""
   ]
  },
  {
   "cell_type": "code",
   "execution_count": 33,
   "metadata": {},
   "outputs": [
    {
     "name": "stdout",
     "output_type": "stream",
     "text": [
      "No fig found\n"
     ]
    }
   ],
   "source": [
    "if 'Fig' in fruits:\n",
    "    fruits.remove('Fig')\n",
    "else:\n",
    "    print(\"No fig found\")"
   ]
  },
  {
   "cell_type": "code",
   "execution_count": 34,
   "metadata": {},
   "outputs": [
    {
     "data": {
      "text/plain": [
       "['Apple',\n",
       " 'Avocado',\n",
       " 'Banana',\n",
       " 'cherry',\n",
       " 'Dragonfruit',\n",
       " 'Guava',\n",
       " 'Almonds',\n",
       " 'Walnut',\n",
       " 'Raisins']"
      ]
     },
     "execution_count": 34,
     "metadata": {},
     "output_type": "execute_result"
    }
   ],
   "source": [
    "fruits"
   ]
  },
  {
   "cell_type": "markdown",
   "metadata": {},
   "source": [
    "pop works in two ways\n",
    "- `list.pop(idx)` => removes the item from given index, and returns the removed value\n",
    "- `list.pop()` => removes the item from bottom and returns the value removed"
   ]
  },
  {
   "cell_type": "code",
   "execution_count": 35,
   "metadata": {},
   "outputs": [
    {
     "data": {
      "text/plain": [
       "'cherry'"
      ]
     },
     "execution_count": 35,
     "metadata": {},
     "output_type": "execute_result"
    }
   ],
   "source": [
    "fruits.pop(3)"
   ]
  },
  {
   "cell_type": "code",
   "execution_count": 37,
   "metadata": {},
   "outputs": [
    {
     "data": {
      "text/plain": [
       "'Raisins'"
      ]
     },
     "execution_count": 37,
     "metadata": {},
     "output_type": "execute_result"
    }
   ],
   "source": [
    "fruits.pop() # last item will be removed"
   ]
  },
  {
   "cell_type": "code",
   "execution_count": 38,
   "metadata": {},
   "outputs": [
    {
     "data": {
      "text/plain": [
       "['Apple', 'Avocado', 'Banana', 'Dragonfruit', 'Guava', 'Almonds', 'Walnut']"
      ]
     },
     "execution_count": 38,
     "metadata": {},
     "output_type": "execute_result"
    }
   ],
   "source": [
    "fruits"
   ]
  },
  {
   "cell_type": "code",
   "execution_count": 39,
   "metadata": {},
   "outputs": [
    {
     "data": {
      "text/plain": [
       "[]"
      ]
     },
     "execution_count": 39,
     "metadata": {},
     "output_type": "execute_result"
    }
   ],
   "source": [
    "fruits.clear()\n",
    "fruits"
   ]
  },
  {
   "cell_type": "code",
   "execution_count": 40,
   "metadata": {},
   "outputs": [],
   "source": [
    "movies = [\n",
    "    'Pushpa: The Rise',\n",
    "    'Atrangi Re',\n",
    "    'Diary of a wimpy kid',\n",
    "    'Justice Society: World War II',\n",
    "    'Boss Baby',\n",
    "    'Venom: Let there be carnage',\n",
    "    'Ghostbusters: Afterlife'\n",
    "]"
   ]
  },
  {
   "cell_type": "code",
   "execution_count": 42,
   "metadata": {},
   "outputs": [
    {
     "data": {
      "text/plain": [
       "['Ghostbusters: Afterlife',\n",
       " 'Venom: Let there be carnage',\n",
       " 'Boss Baby',\n",
       " 'Justice Society: World War II',\n",
       " 'Diary of a wimpy kid',\n",
       " 'Atrangi Re',\n",
       " 'Pushpa: The Rise']"
      ]
     },
     "execution_count": 42,
     "metadata": {},
     "output_type": "execute_result"
    }
   ],
   "source": [
    "movies.reverse()\n",
    "movies"
   ]
  },
  {
   "cell_type": "code",
   "execution_count": 44,
   "metadata": {},
   "outputs": [
    {
     "data": {
      "text/plain": [
       "['Atrangi Re',\n",
       " 'Boss Baby',\n",
       " 'Diary of a wimpy kid',\n",
       " 'Ghostbusters: Afterlife',\n",
       " 'Justice Society: World War II',\n",
       " 'Pushpa: The Rise',\n",
       " 'Venom: Let there be carnage']"
      ]
     },
     "execution_count": 44,
     "metadata": {},
     "output_type": "execute_result"
    }
   ],
   "source": [
    "movies.sort()\n",
    "movies"
   ]
  },
  {
   "cell_type": "code",
   "execution_count": 49,
   "metadata": {},
   "outputs": [
    {
     "data": {
      "text/plain": [
       "['Venom: Let there be carnage',\n",
       " 'Pushpa: The Rise',\n",
       " 'Justice Society: World War II',\n",
       " 'Ghostbusters: Afterlife',\n",
       " 'Diary of a wimpy kid',\n",
       " 'Boss Baby',\n",
       " 'Atrangi Re']"
      ]
     },
     "execution_count": 49,
     "metadata": {},
     "output_type": "execute_result"
    }
   ],
   "source": [
    "movies.sort(reverse=True)\n",
    "movies"
   ]
  },
  {
   "cell_type": "code",
   "execution_count": 50,
   "metadata": {},
   "outputs": [],
   "source": [
    "movies_temp = movies.copy() # duplicate item"
   ]
  },
  {
   "cell_type": "code",
   "execution_count": 51,
   "metadata": {},
   "outputs": [
    {
     "data": {
      "text/plain": [
       "['Venom: Let there be carnage',\n",
       " 'Pushpa: The Rise',\n",
       " 'Justice Society: World War II',\n",
       " 'Ghostbusters: Afterlife',\n",
       " 'Diary of a wimpy kid',\n",
       " 'Boss Baby',\n",
       " 'Atrangi Re']"
      ]
     },
     "execution_count": 51,
     "metadata": {},
     "output_type": "execute_result"
    }
   ],
   "source": [
    "movies_temp"
   ]
  },
  {
   "cell_type": "code",
   "execution_count": 52,
   "metadata": {},
   "outputs": [],
   "source": [
    "x = [1,1,2,3,1,2,3,1,2,2,2,2,3,3,3,1,1,2,2,3,1,1,2]"
   ]
  },
  {
   "cell_type": "code",
   "execution_count": 53,
   "metadata": {},
   "outputs": [
    {
     "data": {
      "text/plain": [
       "8"
      ]
     },
     "execution_count": 53,
     "metadata": {},
     "output_type": "execute_result"
    }
   ],
   "source": [
    "x.count(1)"
   ]
  },
  {
   "cell_type": "code",
   "execution_count": 54,
   "metadata": {},
   "outputs": [
    {
     "data": {
      "text/plain": [
       "6"
      ]
     },
     "execution_count": 54,
     "metadata": {},
     "output_type": "execute_result"
    }
   ],
   "source": [
    "x.count(3)"
   ]
  },
  {
   "cell_type": "code",
   "execution_count": 55,
   "metadata": {},
   "outputs": [
    {
     "data": {
      "text/plain": [
       "0"
      ]
     },
     "execution_count": 55,
     "metadata": {},
     "output_type": "execute_result"
    }
   ],
   "source": [
    "x.count(5)"
   ]
  },
  {
   "cell_type": "code",
   "execution_count": 58,
   "metadata": {},
   "outputs": [
    {
     "data": {
      "text/plain": [
       "5"
      ]
     },
     "execution_count": 58,
     "metadata": {},
     "output_type": "execute_result"
    }
   ],
   "source": [
    "movies.index(\"Boss Baby\")"
   ]
  },
  {
   "cell_type": "code",
   "execution_count": 60,
   "metadata": {},
   "outputs": [
    {
     "data": {
      "text/plain": [
       "2"
      ]
     },
     "execution_count": 60,
     "metadata": {},
     "output_type": "execute_result"
    }
   ],
   "source": [
    "movies.index(\"Justice Society: World War II\")"
   ]
  },
  {
   "cell_type": "markdown",
   "metadata": {},
   "source": [
    "#### wap to add 10 numbers in a list from user input and then display sum, mean, max, min from the list\n",
    "*never create variable called sum*"
   ]
  },
  {
   "cell_type": "code",
   "execution_count": 65,
   "metadata": {},
   "outputs": [
    {
     "name": "stdout",
     "output_type": "stream",
     "text": [
      "sum of numbers => 485\n",
      "mean of numbers => 48.5\n",
      "max value => 123\n",
      "min value => 12\n"
     ]
    }
   ],
   "source": [
    "numbers = []\n",
    "for i in range(10):\n",
    "    val = int(input(f\"enter number {i+1}\"))\n",
    "    numbers.append(val)\n",
    "print(\"sum of numbers =>\",sum(numbers))\n",
    "print(\"mean of numbers =>\",sum(numbers)/len(numbers))\n",
    "print(\"max value =>\",max(numbers))\n",
    "print(\"min value =>\",min(numbers))\n"
   ]
  },
  {
   "cell_type": "code",
   "execution_count": null,
   "metadata": {},
   "outputs": [],
   "source": []
  }
 ],
 "metadata": {
  "interpreter": {
   "hash": "26d6d95e799f68a0680bea77b17a4e3218da601be7d02863e2950dbe63a5be85"
  },
  "kernelspec": {
   "display_name": "Python 3.9.5 ('base')",
   "language": "python",
   "name": "python3"
  },
  "language_info": {
   "codemirror_mode": {
    "name": "ipython",
    "version": 3
   },
   "file_extension": ".py",
   "mimetype": "text/x-python",
   "name": "python",
   "nbconvert_exporter": "python",
   "pygments_lexer": "ipython3",
   "version": "3.9.5"
  },
  "orig_nbformat": 4
 },
 "nbformat": 4,
 "nbformat_minor": 2
}

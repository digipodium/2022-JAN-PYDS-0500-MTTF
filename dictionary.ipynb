{
 "cells": [
  {
   "cell_type": "markdown",
   "metadata": {},
   "source": [
    "# dictionary\n",
    "- dictionary is ordered and unindexed\n",
    "- dictionary is a `key:value` pair system\n",
    "- the keys are always unique for a dict\n",
    "- the keys are only of immutable type (number, string, tuple)\n",
    "- the valuse can be of any type\n",
    "- represented by `{ }`\n",
    "- dictionary is mutable"
   ]
  },
  {
   "cell_type": "code",
   "execution_count": null,
   "metadata": {},
   "outputs": [],
   "source": [
    "x = ['Alex','Mason',22,'3929019284',True,False] # unexplain info\n",
    "std_mark_list = ['Ravi',90,'Kavi',30,'Janhvi',50,'Tanvi',20] # unlinked info"
   ]
  },
  {
   "cell_type": "code",
   "execution_count": null,
   "metadata": {},
   "outputs": [],
   "source": [
    "dict_x = {\n",
    "    'firstname':'Alex',\n",
    "    'lastname':'Mason',\n",
    "    'age':22,\n",
    "    'phone':'3929019284',\n",
    "    'working':True,\n",
    "    'married':False\n",
    "}\n",
    "print(dict_x)"
   ]
  },
  {
   "cell_type": "code",
   "execution_count": null,
   "metadata": {},
   "outputs": [],
   "source": [
    "std_marks_dict = {'Ravi':90,'Kavi':30,'Janhvi':50,'Tanvi':20}\n",
    "std_marks_dict"
   ]
  },
  {
   "cell_type": "code",
   "execution_count": 6,
   "metadata": {},
   "outputs": [
    {
     "data": {
      "text/plain": [
       "'Alex'"
      ]
     },
     "execution_count": 6,
     "metadata": {},
     "output_type": "execute_result"
    }
   ],
   "source": [
    "dict_x['firstname']"
   ]
  },
  {
   "cell_type": "code",
   "execution_count": 7,
   "metadata": {},
   "outputs": [],
   "source": [
    "report = {\n",
    "    'tanya':{\n",
    "        'eng':60,\n",
    "        'math':90,\n",
    "        'sci':90,\n",
    "    },\n",
    "    'saif':{\n",
    "        'eng':80,\n",
    "        'math':96,\n",
    "        'sci':70\n",
    "    },\n",
    "    'bilal':{\n",
    "        'eng':96,\n",
    "        'math':70,\n",
    "        'sci':'absent'\n",
    "    }\n",
    "}"
   ]
  },
  {
   "cell_type": "code",
   "execution_count": 8,
   "metadata": {},
   "outputs": [
    {
     "data": {
      "text/plain": [
       "{'tanya': {'eng': 60, 'math': 90, 'sci': 90},\n",
       " 'saif': {'eng': 80, 'math': 96, 'sci': 70},\n",
       " 'bilal': {'eng': 96, 'math': 70, 'sci': 'absent'}}"
      ]
     },
     "execution_count": 8,
     "metadata": {},
     "output_type": "execute_result"
    }
   ],
   "source": [
    "report"
   ]
  },
  {
   "cell_type": "code",
   "execution_count": null,
   "metadata": {},
   "outputs": [],
   "source": []
  }
 ],
 "metadata": {
  "interpreter": {
   "hash": "26d6d95e799f68a0680bea77b17a4e3218da601be7d02863e2950dbe63a5be85"
  },
  "kernelspec": {
   "display_name": "Python 3.9.5 ('base')",
   "language": "python",
   "name": "python3"
  },
  "language_info": {
   "codemirror_mode": {
    "name": "ipython",
    "version": 3
   },
   "file_extension": ".py",
   "mimetype": "text/x-python",
   "name": "python",
   "nbconvert_exporter": "python",
   "pygments_lexer": "ipython3",
   "version": "3.9.5"
  },
  "orig_nbformat": 4
 },
 "nbformat": 4,
 "nbformat_minor": 2
}

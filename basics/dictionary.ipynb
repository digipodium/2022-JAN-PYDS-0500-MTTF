{
 "cells": [
  {
   "cell_type": "markdown",
   "metadata": {},
   "source": [
    "# dictionary\n",
    "- dictionary is ordered and unindexed\n",
    "- dictionary is a `key:value` pair system\n",
    "- the keys are always unique for a dict\n",
    "- the keys are only of immutable type (number, string, tuple)\n",
    "- the valuse can be of any type\n",
    "- represented by `{ }`\n",
    "- dictionary is mutable"
   ]
  },
  {
   "cell_type": "code",
   "execution_count": null,
   "metadata": {},
   "outputs": [],
   "source": [
    "x = ['Alex','Mason',22,'3929019284',True,False] # unexplain info\n",
    "std_mark_list = ['Ravi',90,'Kavi',30,'Janhvi',50,'Tanvi',20] # unlinked info"
   ]
  },
  {
   "cell_type": "code",
   "execution_count": null,
   "metadata": {},
   "outputs": [],
   "source": [
    "dict_x = {\n",
    "    'firstname':'Alex',\n",
    "    'lastname':'Mason',\n",
    "    'age':22,\n",
    "    'phone':'3929019284',\n",
    "    'working':True,\n",
    "    'married':False\n",
    "}\n",
    "print(dict_x)"
   ]
  },
  {
   "cell_type": "code",
   "execution_count": null,
   "metadata": {},
   "outputs": [],
   "source": [
    "std_marks_dict = {'Ravi':90,'Kavi':30,'Janhvi':50,'Tanvi':20}\n",
    "std_marks_dict"
   ]
  },
  {
   "cell_type": "code",
   "execution_count": null,
   "metadata": {},
   "outputs": [],
   "source": [
    "dict_x['firstname']"
   ]
  },
  {
   "cell_type": "code",
   "execution_count": null,
   "metadata": {},
   "outputs": [],
   "source": [
    "report = {\n",
    "    'tanya':{\n",
    "        'eng':60,\n",
    "        'math':90,\n",
    "        'sci':90,\n",
    "    },\n",
    "    'saif':{\n",
    "        'eng':80,\n",
    "        'math':96,\n",
    "        'sci':70\n",
    "    },\n",
    "    'bilal':{\n",
    "        'eng':96,\n",
    "        'math':70,\n",
    "        'sci':'absent'\n",
    "    }\n",
    "}"
   ]
  },
  {
   "cell_type": "code",
   "execution_count": null,
   "metadata": {},
   "outputs": [],
   "source": [
    "report"
   ]
  },
  {
   "cell_type": "code",
   "execution_count": null,
   "metadata": {},
   "outputs": [],
   "source": [
    "dict_x"
   ]
  },
  {
   "cell_type": "markdown",
   "metadata": {},
   "source": [
    "adding data"
   ]
  },
  {
   "cell_type": "code",
   "execution_count": null,
   "metadata": {},
   "outputs": [],
   "source": [
    "dict_x['city'] = 'Los Angeles' # add a new key city and value los angeles in dict x\n",
    "dict_x['state'] = 'California'\n",
    "dict_x"
   ]
  },
  {
   "cell_type": "markdown",
   "metadata": {},
   "source": [
    "updating data"
   ]
  },
  {
   "cell_type": "code",
   "execution_count": null,
   "metadata": {},
   "outputs": [],
   "source": [
    "dict_x['age'] = 23 # update value for exising key\n",
    "dict_x"
   ]
  },
  {
   "cell_type": "markdown",
   "metadata": {},
   "source": [
    "removing data"
   ]
  },
  {
   "cell_type": "code",
   "execution_count": null,
   "metadata": {},
   "outputs": [],
   "source": [
    "dict_x.pop('married')\n",
    "dict_x"
   ]
  },
  {
   "cell_type": "code",
   "execution_count": null,
   "metadata": {},
   "outputs": [],
   "source": [
    "dict_x.popitem() # remove last added items"
   ]
  },
  {
   "cell_type": "code",
   "execution_count": null,
   "metadata": {},
   "outputs": [],
   "source": [
    "x = {'a':'apple','b':'ball','c':'cat'}\n",
    "y = {'d':'dog','e':'elephant','f':'fish'}"
   ]
  },
  {
   "cell_type": "code",
   "execution_count": null,
   "metadata": {},
   "outputs": [],
   "source": [
    "x.update(y)\n",
    "print(x)"
   ]
  },
  {
   "cell_type": "markdown",
   "metadata": {},
   "source": [
    "list with dict"
   ]
  },
  {
   "cell_type": "code",
   "execution_count": null,
   "metadata": {},
   "outputs": [],
   "source": [
    "x = {'a':'apple','b':'ball','c':'cat'}\n",
    "y = {'d':'dog','e':'elephant','f':'fish'}\n",
    "z = {'g':'goat','h':'horse','i':'icecream'}\n",
    "abc = [x,y,z]\n",
    "print(abc)"
   ]
  },
  {
   "cell_type": "code",
   "execution_count": null,
   "metadata": {},
   "outputs": [],
   "source": [
    "data = [\n",
    "    {'name':'Ravi','age':22},\n",
    "    {'name':'Kavi','age':30},\n",
    "    {'name':'Janhvi','age':50},\n",
    "    {'name':'Tanvi','age':20}\n",
    "]\n",
    "data"
   ]
  },
  {
   "cell_type": "code",
   "execution_count": null,
   "metadata": {},
   "outputs": [],
   "source": [
    "abc[0]['b']"
   ]
  },
  {
   "cell_type": "code",
   "execution_count": null,
   "metadata": {},
   "outputs": [],
   "source": [
    "data[-1]['age']"
   ]
  },
  {
   "cell_type": "code",
   "execution_count": null,
   "metadata": {},
   "outputs": [],
   "source": [
    "report['saif']['sci']"
   ]
  },
  {
   "cell_type": "markdown",
   "metadata": {},
   "source": [
    "traversal or looping"
   ]
  },
  {
   "cell_type": "code",
   "execution_count": null,
   "metadata": {},
   "outputs": [],
   "source": [
    "list(dict_x.keys())"
   ]
  },
  {
   "cell_type": "code",
   "execution_count": null,
   "metadata": {},
   "outputs": [],
   "source": [
    "list(dict_x.values())"
   ]
  },
  {
   "cell_type": "code",
   "execution_count": 44,
   "metadata": {},
   "outputs": [
    {
     "data": {
      "text/plain": [
       "[('firstname', 'Alex'),\n",
       " ('lastname', 'Mason'),\n",
       " ('age', 23),\n",
       " ('phone', '3929019284'),\n",
       " ('working', True),\n",
       " ('city', 'Los Angeles')]"
      ]
     },
     "execution_count": 44,
     "metadata": {},
     "output_type": "execute_result"
    }
   ],
   "source": [
    "list(dict_x.items())"
   ]
  },
  {
   "cell_type": "code",
   "execution_count": null,
   "metadata": {},
   "outputs": [],
   "source": [
    "# most useful\n",
    "for k,v in dict_x.items():\n",
    "    print(k,v)"
   ]
  },
  {
   "cell_type": "code",
   "execution_count": null,
   "metadata": {},
   "outputs": [],
   "source": [
    "for k in dict_x:\n",
    "    print(k, dict_x[k])"
   ]
  },
  {
   "cell_type": "markdown",
   "metadata": {},
   "source": [
    "WAP to add details of 5 employees in a dict. The details are as follows\n",
    "- firstname\n",
    "- lastname\n",
    "- empid\n",
    "- desingnation\n",
    "- doj\n",
    "- basic_salary\n",
    "- department\n",
    "\n",
    "then display their details after incrementing their salary by 9%"
   ]
  },
  {
   "cell_type": "code",
   "execution_count": null,
   "metadata": {},
   "outputs": [],
   "source": []
  }
 ],
 "metadata": {
  "interpreter": {
   "hash": "26d6d95e799f68a0680bea77b17a4e3218da601be7d02863e2950dbe63a5be85"
  },
  "kernelspec": {
   "display_name": "Python 3.9.5 ('base')",
   "language": "python",
   "name": "python3"
  },
  "language_info": {
   "codemirror_mode": {
    "name": "ipython",
    "version": 3
   },
   "file_extension": ".py",
   "mimetype": "text/x-python",
   "name": "python",
   "nbconvert_exporter": "python",
   "pygments_lexer": "ipython3",
   "version": "3.9.5"
  },
  "orig_nbformat": 4
 },
 "nbformat": 4,
 "nbformat_minor": 2
}

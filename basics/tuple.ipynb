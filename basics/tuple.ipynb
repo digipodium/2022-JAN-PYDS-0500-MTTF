{
 "cells": [
  {
   "cell_type": "markdown",
   "metadata": {},
   "source": [
    "# Tuple \n",
    "1. Tuple can hold multiple values\n",
    "2. Tuple is `immutable` (unchangable during execution)\n",
    "3. Tuple is indexed (indexing and slicing)\n",
    "4. Tuple can have duplicate item\n",
    "5. Tuple is represented by `( )` with comma seperated values\n",
    "6. Tuple can have mixed values inside it\n",
    "7. Tuple can be nested inside list\n",
    "8. Tuple has a function called tuple() used for typecasting other sequence to tuple"
   ]
  },
  {
   "cell_type": "markdown",
   "metadata": {},
   "source": [
    "### what u need to learn\n",
    "- creation\n",
    "- slicing and indexing\n",
    "- traversal\n",
    "- functions"
   ]
  },
  {
   "cell_type": "code",
   "execution_count": null,
   "metadata": {},
   "outputs": [],
   "source": [
    "t = 1,2,3,3,4,5\n",
    "print(t)\n",
    "print(type(t))"
   ]
  },
  {
   "cell_type": "code",
   "execution_count": null,
   "metadata": {},
   "outputs": [],
   "source": [
    "t2 = (2,2,3,1,'alex','elex')\n",
    "print(t2)"
   ]
  },
  {
   "cell_type": "code",
   "execution_count": null,
   "metadata": {},
   "outputs": [],
   "source": [
    "x = [1,2,3,4,6]\n",
    "xt =  tuple(x)\n",
    "print(x,xt)\n",
    "print(type(x),type(xt))"
   ]
  },
  {
   "cell_type": "code",
   "execution_count": null,
   "metadata": {},
   "outputs": [],
   "source": [
    "a = 10\n",
    "b = 12\n",
    "c = 23\n",
    "x = (a,b,c,a)\n",
    "print(x)"
   ]
  },
  {
   "cell_type": "code",
   "execution_count": null,
   "metadata": {},
   "outputs": [],
   "source": [
    "x = (1,2,3,1,1,2,2,2,2,3,3,3,3,3,3,3,1,2,1,1,21,2,2,3,2)\n",
    "x"
   ]
  },
  {
   "cell_type": "code",
   "execution_count": null,
   "metadata": {},
   "outputs": [],
   "source": [
    "print(x[0]) # first value\n",
    "print(x[1]) # second value\n",
    "print(x[-1]) # last value\n",
    "print(x[4]) # third value"
   ]
  },
  {
   "cell_type": "code",
   "execution_count": null,
   "metadata": {},
   "outputs": [],
   "source": [
    "print( x[ : 3 ] ) # first 3\n",
    "print( x[ -3 : ] ) # last 3\n",
    "print( x[ 5 : 15 ] ) # from 5 index to 14 index\n",
    "print( x[ : : -1 ] ) # reverse tuple\n",
    "# all odd indexes \n",
    "# all even indexes"
   ]
  },
  {
   "cell_type": "code",
   "execution_count": null,
   "metadata": {},
   "outputs": [],
   "source": [
    "x.count(2)"
   ]
  },
  {
   "cell_type": "code",
   "execution_count": null,
   "metadata": {},
   "outputs": [],
   "source": [
    "x.count(1)"
   ]
  },
  {
   "cell_type": "code",
   "execution_count": null,
   "metadata": {},
   "outputs": [],
   "source": [
    "p = ['sit','sat','sitting',]"
   ]
  },
  {
   "cell_type": "code",
   "execution_count": null,
   "metadata": {},
   "outputs": [],
   "source": [
    "p.index('sat')"
   ]
  },
  {
   "cell_type": "code",
   "execution_count": null,
   "metadata": {},
   "outputs": [],
   "source": []
  }
 ],
 "metadata": {
  "interpreter": {
   "hash": "26d6d95e799f68a0680bea77b17a4e3218da601be7d02863e2950dbe63a5be85"
  },
  "kernelspec": {
   "display_name": "Python 3.9.5 ('base')",
   "language": "python",
   "name": "python3"
  },
  "language_info": {
   "codemirror_mode": {
    "name": "ipython",
    "version": 3
   },
   "file_extension": ".py",
   "mimetype": "text/x-python",
   "name": "python",
   "nbconvert_exporter": "python",
   "pygments_lexer": "ipython3",
   "version": "3.9.5"
  },
  "orig_nbformat": 4
 },
 "nbformat": 4,
 "nbformat_minor": 2
}

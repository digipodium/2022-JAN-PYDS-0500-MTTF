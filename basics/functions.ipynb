{
 "cells": [
  {
   "cell_type": "code",
   "execution_count": null,
   "metadata": {},
   "outputs": [],
   "source": [
    "def check():\n",
    "    print(\"This is a boring function\")"
   ]
  },
  {
   "cell_type": "code",
   "execution_count": null,
   "metadata": {},
   "outputs": [],
   "source": [
    "check()"
   ]
  },
  {
   "cell_type": "code",
   "execution_count": null,
   "metadata": {},
   "outputs": [],
   "source": [
    "check()\n",
    "check()"
   ]
  },
  {
   "cell_type": "code",
   "execution_count": null,
   "metadata": {},
   "outputs": [],
   "source": [
    "x = [1,2,3,5]\n",
    "x.reverse()\n",
    "x"
   ]
  },
  {
   "cell_type": "code",
   "execution_count": null,
   "metadata": {},
   "outputs": [],
   "source": [
    "print()"
   ]
  },
  {
   "cell_type": "markdown",
   "metadata": {},
   "source": [
    "parameterized"
   ]
  },
  {
   "cell_type": "code",
   "execution_count": null,
   "metadata": {},
   "outputs": [],
   "source": [
    "def divide(a,b,c):\n",
    "    ans = a / b / c\n",
    "    print(ans)"
   ]
  },
  {
   "cell_type": "code",
   "execution_count": null,
   "metadata": {},
   "outputs": [],
   "source": [
    "divide(10,3,15)"
   ]
  },
  {
   "cell_type": "code",
   "execution_count": null,
   "metadata": {},
   "outputs": [],
   "source": [
    "divide(1,2,3)"
   ]
  },
  {
   "cell_type": "code",
   "execution_count": null,
   "metadata": {},
   "outputs": [],
   "source": [
    "a = int(input('>'))\n",
    "b = int(input('>'))\n",
    "c = int(input('>'))\n",
    "divide(a,b,c)"
   ]
  },
  {
   "cell_type": "markdown",
   "metadata": {},
   "source": [
    "example"
   ]
  },
  {
   "cell_type": "code",
   "execution_count": null,
   "metadata": {},
   "outputs": [],
   "source": [
    "def update_salary(old_salary):\n",
    "    new_salary = old_salary + old_salary * .09\n",
    "    print(f\"{old_salary} -> {new_salary}\")\n",
    "\n",
    "def update_travel_allowance(old_salary):\n",
    "    new_salary = old_salary + old_salary * .05\n",
    "    print(f\"{old_salary} -> {new_salary}\")"
   ]
  },
  {
   "cell_type": "code",
   "execution_count": null,
   "metadata": {},
   "outputs": [],
   "source": [
    "update_salary(30000)\n",
    "update_travel_allowance(32700)"
   ]
  },
  {
   "cell_type": "markdown",
   "metadata": {},
   "source": [
    "returning value"
   ]
  },
  {
   "cell_type": "code",
   "execution_count": null,
   "metadata": {},
   "outputs": [],
   "source": [
    "def update_salary(old_salary):\n",
    "    new_salary = old_salary + old_salary * .09\n",
    "    return new_salary\n",
    "\n",
    "def update_travel_allowance(old_salary):\n",
    "    new_salary = old_salary + old_salary * .05\n",
    "    return new_salary"
   ]
  },
  {
   "cell_type": "code",
   "execution_count": null,
   "metadata": {},
   "outputs": [],
   "source": [
    "print(update_salary(30000))"
   ]
  },
  {
   "cell_type": "code",
   "execution_count": null,
   "metadata": {},
   "outputs": [],
   "source": [
    "usal = update_salary(30000)\n",
    "print(usal)"
   ]
  },
  {
   "cell_type": "code",
   "execution_count": null,
   "metadata": {},
   "outputs": [],
   "source": [
    "update_salary(30000) * .15"
   ]
  },
  {
   "cell_type": "code",
   "execution_count": null,
   "metadata": {},
   "outputs": [],
   "source": [
    "update_salary(update_travel_allowance(30000))"
   ]
  },
  {
   "cell_type": "markdown",
   "metadata": {},
   "source": [
    "- waf to check if a number is even or odd\n",
    "- waf to remove all the vowels from a sentence passed as argument\n",
    "- waf to find the second and third highest value in a list, list should be pass as argument"
   ]
  },
  {
   "cell_type": "code",
   "execution_count": null,
   "metadata": {},
   "outputs": [],
   "source": [
    "def even_odd(number):\n",
    "    if number % 2 == 0:\n",
    "        return \"even\"\n",
    "    return \"odd\"\n",
    "\n",
    "def vowel_remover(sentence):\n",
    "    for vowel in \"aeiouAEIOU\":\n",
    "        sentence = sentence.replace(vowel,'')\n",
    "    return sentence\n",
    "\n",
    "def max_2_n_3(num_list):\n",
    "    num_list.sort()\n",
    "    return num_list[-3], num_list[-2]"
   ]
  },
  {
   "cell_type": "code",
   "execution_count": null,
   "metadata": {},
   "outputs": [],
   "source": [
    "x = [1,2,1,2,3,5,7,8,9,0,20,34]\n",
    "max_2_n_3(x)\n"
   ]
  },
  {
   "cell_type": "markdown",
   "metadata": {},
   "source": [
    "type of parameter settings in function\n",
    "- required\n",
    "- named\n",
    "- default\n",
    "- args, kwargs"
   ]
  },
  {
   "cell_type": "code",
   "execution_count": null,
   "metadata": {},
   "outputs": [],
   "source": [
    "def add(a,b,c):\n",
    "    return a + b + c"
   ]
  },
  {
   "cell_type": "code",
   "execution_count": null,
   "metadata": {},
   "outputs": [],
   "source": [
    "add(2,3,5)"
   ]
  },
  {
   "cell_type": "code",
   "execution_count": null,
   "metadata": {},
   "outputs": [],
   "source": [
    "print(add(a=1,b=2,c=3))\n",
    "print(add(c=3,b=5,a=1))\n",
    "print(add(10, c=5, b=5))"
   ]
  },
  {
   "cell_type": "code",
   "execution_count": null,
   "metadata": {},
   "outputs": [],
   "source": [
    "def addv2(a,b,c=0):\n",
    "    return a + b + c"
   ]
  },
  {
   "cell_type": "code",
   "execution_count": null,
   "metadata": {},
   "outputs": [],
   "source": [
    "print(addv2(10,5))\n",
    "print(addv2(10,5,23))\n",
    "print(addv2(10,5,c=23))\n",
    "print(addv2(b=10, a=5, c=23))"
   ]
  },
  {
   "cell_type": "code",
   "execution_count": 22,
   "metadata": {},
   "outputs": [],
   "source": [
    "def addv3(a=0, b=0, c=0):\n",
    "    return a + b + c"
   ]
  },
  {
   "cell_type": "code",
   "execution_count": 26,
   "metadata": {},
   "outputs": [
    {
     "name": "stdout",
     "output_type": "stream",
     "text": [
      "0\n",
      "21\n",
      "21\n",
      "23\n",
      "3\n"
     ]
    }
   ],
   "source": [
    "print(addv3())\n",
    "print(addv3(21))\n",
    "print(addv3(c=21))\n",
    "print(addv3(a=2,c=21))\n",
    "print(addv3(2,1))"
   ]
  },
  {
   "cell_type": "code",
   "execution_count": 28,
   "metadata": {},
   "outputs": [],
   "source": [
    "def sum_of_evens(*numbers):\n",
    "    if len(numbers) > 0:\n",
    "        total = 0\n",
    "        for val in numbers:\n",
    "            if val % 2 == 0:\n",
    "                total += val\n",
    "        return total\n",
    "    else:\n",
    "        return 0"
   ]
  },
  {
   "cell_type": "code",
   "execution_count": 34,
   "metadata": {},
   "outputs": [
    {
     "data": {
      "text/plain": [
       "20"
      ]
     },
     "execution_count": 34,
     "metadata": {},
     "output_type": "execute_result"
    }
   ],
   "source": [
    "sum_of_evens(1,2,3,3,5,5,2,2,2,1,1,1,1,2,2,2,2,2,2,3)"
   ]
  },
  {
   "cell_type": "code",
   "execution_count": null,
   "metadata": {},
   "outputs": [],
   "source": []
  }
 ],
 "metadata": {
  "interpreter": {
   "hash": "26d6d95e799f68a0680bea77b17a4e3218da601be7d02863e2950dbe63a5be85"
  },
  "kernelspec": {
   "display_name": "Python 3.9.5 ('base')",
   "language": "python",
   "name": "python3"
  },
  "language_info": {
   "codemirror_mode": {
    "name": "ipython",
    "version": 3
   },
   "file_extension": ".py",
   "mimetype": "text/x-python",
   "name": "python",
   "nbconvert_exporter": "python",
   "pygments_lexer": "ipython3",
   "version": "3.9.5"
  },
  "orig_nbformat": 4
 },
 "nbformat": 4,
 "nbformat_minor": 2
}
